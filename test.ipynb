{
 "cells": [
  {
   "cell_type": "code",
   "execution_count": 15,
   "metadata": {},
   "outputs": [],
   "source": [
    "import glob\n",
    "import SimpleITK as sitk \n",
    "from monai.transforms import Resized, Compose, LoadImaged, Orientationd, Spacingd, EnsureTyped, EnsureChannelFirstd, AsDiscrete, CastToTyped, Resize\n",
    "from monai.transforms.utils import allow_missing_keys_mode\n",
    "import numpy as np \n",
    "\n",
    "\n",
    "train_transform = Compose([\n",
    "            LoadImaged(keys=[\"image\", \"label\"]),\n",
    "            EnsureChannelFirstd(keys=[\"image\",\"label\"]),\n",
    "            EnsureTyped(keys=[\"image\", \"label\"]),\n",
    "            Orientationd(keys=[\"image\", \"label\"], axcodes=\"RAS\"),\n",
    "            Spacingd(keys=[\"image\", \"label\"],pixdim=(1.0, 1.0, 1.0), mode=(\"bilinear\", \"nearest\"),),\n",
    "            Resized(keys=[\"image\",\"label\"],spatial_size=(128,128,128), mode=(\"area\", \"nearest\")),\n",
    "        ])\n"
   ]
  },
  {
   "cell_type": "code",
   "execution_count": 16,
   "metadata": {},
   "outputs": [
    {
     "data": {
      "text/plain": [
       "(286, 237, 459)"
      ]
     },
     "execution_count": 16,
     "metadata": {},
     "output_type": "execute_result"
    }
   ],
   "source": [
    "my_dict = dict()\n",
    "my_dict[\"image\"] = \"/home/shirshak/Pengwin_Submission_Portal/test/input/images/pelvic-fracture-ct/101.mha\"\n",
    "my_dict[\"label\"] = \"/home/shirshak/Pengwin_Submission_Portal/test/input/images/pelvic-fracture-ct/001_label.mha\"\n",
    "image_dict = train_transform(my_dict)"
   ]
  },
  {
   "cell_type": "code",
   "execution_count": 17,
   "metadata": {},
   "outputs": [],
   "source": [
    "image_dict[\"image\"]"
   ]
  },
  {
   "cell_type": "code",
   "execution_count": null,
   "metadata": {},
   "outputs": [],
   "source": [
    "image_dict[\"label\"].unique()"
   ]
  },
  {
   "cell_type": "code",
   "execution_count": null,
   "metadata": {},
   "outputs": [],
   "source": [
    "image_dict[\"label\"].shape"
   ]
  },
  {
   "cell_type": "code",
   "execution_count": null,
   "metadata": {},
   "outputs": [],
   "source": [
    "image_dict[\"label\"].shape"
   ]
  },
  {
   "cell_type": "code",
   "execution_count": null,
   "metadata": {},
   "outputs": [],
   "source": [
    "predict_seg_dict = {\"label\":image_dict[\"label\"]}"
   ]
  },
  {
   "cell_type": "code",
   "execution_count": null,
   "metadata": {},
   "outputs": [],
   "source": [
    "with allow_missing_keys_mode(train_transform):\n",
    "    pred_segmentation_post_transform = train_transform.inverse(predict_seg_dict)[\"label\"][0] # we take 0th term because, there is extra channel dimension....\n",
    "    print(np.unique(pred_segmentation_post_transform, return_counts=True))\n",
    "    pred_segmentation_post_transform = pred_segmentation_post_transform.astype(int)\n",
    "    print(np.unique(pred_segmentation_post_transform, return_counts=True))"
   ]
  },
  {
   "cell_type": "code",
   "execution_count": null,
   "metadata": {},
   "outputs": [],
   "source": [
    "pred_segmentation_post_transform.shape"
   ]
  },
  {
   "cell_type": "code",
   "execution_count": null,
   "metadata": {},
   "outputs": [],
   "source": []
  },
  {
   "cell_type": "code",
   "execution_count": null,
   "metadata": {},
   "outputs": [],
   "source": []
  },
  {
   "cell_type": "code",
   "execution_count": 37,
   "metadata": {},
   "outputs": [],
   "source": [
    "from monai.transforms import Compose, LoadImaged\n",
    "import numpy as np \n",
    "\n",
    "my_transform = Compose([\n",
    "            # LoadImaged(keys=[\"image\", \"label\"]), \n",
    "            LoadImaged(keys=[\"image\", \"label\"], dtype=(np.float32, np.int8)),\n",
    "        ])"
   ]
  },
  {
   "cell_type": "code",
   "execution_count": null,
   "metadata": {},
   "outputs": [],
   "source": []
  },
  {
   "cell_type": "code",
   "execution_count": 38,
   "metadata": {},
   "outputs": [
    {
     "ename": "RuntimeError",
     "evalue": "applying transform <monai.transforms.io.dictionary.LoadImaged object at 0x7fe26e0513c0>",
     "output_type": "error",
     "traceback": [
      "\u001b[0;31m---------------------------------------------------------------------------\u001b[0m",
      "\u001b[0;31mValueError\u001b[0m                                Traceback (most recent call last)",
      "File \u001b[0;32m~/Pengwin_Submission_Portal/.venv/lib/python3.10/site-packages/monai/transforms/transform.py:102\u001b[0m, in \u001b[0;36mapply_transform\u001b[0;34m(transform, data, map_items, unpack_items, log_stats)\u001b[0m\n\u001b[1;32m    101\u001b[0m         \u001b[38;5;28;01mreturn\u001b[39;00m [_apply_transform(transform, item, unpack_items) \u001b[38;5;28;01mfor\u001b[39;00m item \u001b[38;5;129;01min\u001b[39;00m data]\n\u001b[0;32m--> 102\u001b[0m     \u001b[38;5;28;01mreturn\u001b[39;00m \u001b[43m_apply_transform\u001b[49m\u001b[43m(\u001b[49m\u001b[43mtransform\u001b[49m\u001b[43m,\u001b[49m\u001b[43m \u001b[49m\u001b[43mdata\u001b[49m\u001b[43m,\u001b[49m\u001b[43m \u001b[49m\u001b[43munpack_items\u001b[49m\u001b[43m)\u001b[49m\n\u001b[1;32m    103\u001b[0m \u001b[38;5;28;01mexcept\u001b[39;00m \u001b[38;5;167;01mException\u001b[39;00m \u001b[38;5;28;01mas\u001b[39;00m e:\n\u001b[1;32m    104\u001b[0m     \u001b[38;5;66;03m# if in debug mode, don't swallow exception so that the breakpoint\u001b[39;00m\n\u001b[1;32m    105\u001b[0m     \u001b[38;5;66;03m# appears where the exception was raised.\u001b[39;00m\n",
      "File \u001b[0;32m~/Pengwin_Submission_Portal/.venv/lib/python3.10/site-packages/monai/transforms/transform.py:66\u001b[0m, in \u001b[0;36m_apply_transform\u001b[0;34m(transform, parameters, unpack_parameters)\u001b[0m\n\u001b[1;32m     64\u001b[0m     \u001b[38;5;28;01mreturn\u001b[39;00m transform(\u001b[38;5;241m*\u001b[39mparameters)\n\u001b[0;32m---> 66\u001b[0m \u001b[38;5;28;01mreturn\u001b[39;00m \u001b[43mtransform\u001b[49m\u001b[43m(\u001b[49m\u001b[43mparameters\u001b[49m\u001b[43m)\u001b[49m\n",
      "File \u001b[0;32m~/Pengwin_Submission_Portal/.venv/lib/python3.10/site-packages/monai/transforms/io/dictionary.py:154\u001b[0m, in \u001b[0;36mLoadImaged.__call__\u001b[0;34m(self, data, reader)\u001b[0m\n\u001b[1;32m    153\u001b[0m \u001b[38;5;28;01mfor\u001b[39;00m key, meta_key, meta_key_postfix \u001b[38;5;129;01min\u001b[39;00m \u001b[38;5;28mself\u001b[39m\u001b[38;5;241m.\u001b[39mkey_iterator(d, \u001b[38;5;28mself\u001b[39m\u001b[38;5;241m.\u001b[39mmeta_keys, \u001b[38;5;28mself\u001b[39m\u001b[38;5;241m.\u001b[39mmeta_key_postfix):\n\u001b[0;32m--> 154\u001b[0m     data \u001b[38;5;241m=\u001b[39m \u001b[38;5;28;43mself\u001b[39;49m\u001b[38;5;241;43m.\u001b[39;49m\u001b[43m_loader\u001b[49m\u001b[43m(\u001b[49m\u001b[43md\u001b[49m\u001b[43m[\u001b[49m\u001b[43mkey\u001b[49m\u001b[43m]\u001b[49m\u001b[43m,\u001b[49m\u001b[43m \u001b[49m\u001b[43mreader\u001b[49m\u001b[43m)\u001b[49m\n\u001b[1;32m    155\u001b[0m     \u001b[38;5;28;01mif\u001b[39;00m \u001b[38;5;28mself\u001b[39m\u001b[38;5;241m.\u001b[39m_loader\u001b[38;5;241m.\u001b[39mimage_only:\n",
      "File \u001b[0;32m~/Pengwin_Submission_Portal/.venv/lib/python3.10/site-packages/monai/transforms/io/array.py:275\u001b[0m, in \u001b[0;36mLoadImage.__call__\u001b[0;34m(self, filename, reader)\u001b[0m\n\u001b[1;32m    274\u001b[0m img_array, meta_data \u001b[38;5;241m=\u001b[39m reader\u001b[38;5;241m.\u001b[39mget_data(img)\n\u001b[0;32m--> 275\u001b[0m img_array \u001b[38;5;241m=\u001b[39m \u001b[43mconvert_to_dst_type\u001b[49m\u001b[43m(\u001b[49m\u001b[43mimg_array\u001b[49m\u001b[43m,\u001b[49m\u001b[43m \u001b[49m\u001b[43mdst\u001b[49m\u001b[38;5;241;43m=\u001b[39;49m\u001b[43mimg_array\u001b[49m\u001b[43m,\u001b[49m\u001b[43m \u001b[49m\u001b[43mdtype\u001b[49m\u001b[38;5;241;43m=\u001b[39;49m\u001b[38;5;28;43mself\u001b[39;49m\u001b[38;5;241;43m.\u001b[39;49m\u001b[43mdtype\u001b[49m\u001b[43m)\u001b[49m[\u001b[38;5;241m0\u001b[39m]\n\u001b[1;32m    276\u001b[0m \u001b[38;5;28;01mif\u001b[39;00m \u001b[38;5;129;01mnot\u001b[39;00m \u001b[38;5;28misinstance\u001b[39m(meta_data, \u001b[38;5;28mdict\u001b[39m):\n",
      "File \u001b[0;32m~/Pengwin_Submission_Portal/.venv/lib/python3.10/site-packages/monai/utils/type_conversion.py:370\u001b[0m, in \u001b[0;36mconvert_to_dst_type\u001b[0;34m(src, dst, dtype, wrap_sequence, device, safe)\u001b[0m\n\u001b[1;32m    369\u001b[0m output: NdarrayTensor\n\u001b[0;32m--> 370\u001b[0m output, _type, _device \u001b[38;5;241m=\u001b[39m \u001b[43mconvert_data_type\u001b[49m\u001b[43m(\u001b[49m\n\u001b[1;32m    371\u001b[0m \u001b[43m    \u001b[49m\u001b[43mdata\u001b[49m\u001b[38;5;241;43m=\u001b[39;49m\u001b[43msrc\u001b[49m\u001b[43m,\u001b[49m\u001b[43m \u001b[49m\u001b[43moutput_type\u001b[49m\u001b[38;5;241;43m=\u001b[39;49m\u001b[43moutput_type\u001b[49m\u001b[43m,\u001b[49m\u001b[43m \u001b[49m\u001b[43mdevice\u001b[49m\u001b[38;5;241;43m=\u001b[39;49m\u001b[43mdevice\u001b[49m\u001b[43m,\u001b[49m\u001b[43m \u001b[49m\u001b[43mdtype\u001b[49m\u001b[38;5;241;43m=\u001b[39;49m\u001b[43mdtype\u001b[49m\u001b[43m,\u001b[49m\u001b[43m \u001b[49m\u001b[43mwrap_sequence\u001b[49m\u001b[38;5;241;43m=\u001b[39;49m\u001b[43mwrap_sequence\u001b[49m\u001b[43m,\u001b[49m\u001b[43m \u001b[49m\u001b[43msafe\u001b[49m\u001b[38;5;241;43m=\u001b[39;49m\u001b[43msafe\u001b[49m\n\u001b[1;32m    372\u001b[0m \u001b[43m\u001b[49m\u001b[43m)\u001b[49m\n\u001b[1;32m    373\u001b[0m \u001b[38;5;28;01mif\u001b[39;00m copy_meta \u001b[38;5;129;01mand\u001b[39;00m \u001b[38;5;28misinstance\u001b[39m(output, monai\u001b[38;5;241m.\u001b[39mdata\u001b[38;5;241m.\u001b[39mMetaTensor):\n",
      "File \u001b[0;32m~/Pengwin_Submission_Portal/.venv/lib/python3.10/site-packages/monai/utils/type_conversion.py:317\u001b[0m, in \u001b[0;36mconvert_data_type\u001b[0;34m(data, output_type, device, dtype, wrap_sequence, safe)\u001b[0m\n\u001b[1;32m    316\u001b[0m \u001b[38;5;28;01mif\u001b[39;00m \u001b[38;5;28missubclass\u001b[39m(output_type, np\u001b[38;5;241m.\u001b[39mndarray):\n\u001b[0;32m--> 317\u001b[0m     data_ \u001b[38;5;241m=\u001b[39m \u001b[43mconvert_to_numpy\u001b[49m\u001b[43m(\u001b[49m\u001b[43mdata\u001b[49m\u001b[43m,\u001b[49m\u001b[43m \u001b[49m\u001b[43mdtype\u001b[49m\u001b[38;5;241;43m=\u001b[39;49m\u001b[43mdtype_\u001b[49m\u001b[43m,\u001b[49m\u001b[43m \u001b[49m\u001b[43mwrap_sequence\u001b[49m\u001b[38;5;241;43m=\u001b[39;49m\u001b[43mwrap_sequence\u001b[49m\u001b[43m,\u001b[49m\u001b[43m \u001b[49m\u001b[43msafe\u001b[49m\u001b[38;5;241;43m=\u001b[39;49m\u001b[43msafe\u001b[49m\u001b[43m)\u001b[49m\n\u001b[1;32m    318\u001b[0m     \u001b[38;5;28;01mreturn\u001b[39;00m data_, orig_type, orig_device\n",
      "File \u001b[0;32m~/Pengwin_Submission_Portal/.venv/lib/python3.10/site-packages/monai/utils/type_conversion.py:200\u001b[0m, in \u001b[0;36mconvert_to_numpy\u001b[0;34m(data, dtype, wrap_sequence, safe)\u001b[0m\n\u001b[1;32m    194\u001b[0m \u001b[38;5;28;01melif\u001b[39;00m \u001b[38;5;28misinstance\u001b[39m(data, (np\u001b[38;5;241m.\u001b[39mndarray, \u001b[38;5;28mfloat\u001b[39m, \u001b[38;5;28mint\u001b[39m, \u001b[38;5;28mbool\u001b[39m)):\n\u001b[1;32m    195\u001b[0m     \u001b[38;5;66;03m# Convert into a contiguous array first if the current dtype's size is smaller than the target dtype's size.\u001b[39;00m\n\u001b[1;32m    196\u001b[0m     \u001b[38;5;66;03m# This help improve the performance because (convert to contiguous array) -> (convert dtype) is faster\u001b[39;00m\n\u001b[1;32m    197\u001b[0m     \u001b[38;5;66;03m# than (convert dtype) -> (convert to contiguous array) when src dtype (e.g., uint8) is smaller than\u001b[39;00m\n\u001b[1;32m    198\u001b[0m     \u001b[38;5;66;03m# target dtype(e.g., float32) and we are going to convert it to contiguous array anyway later in this\u001b[39;00m\n\u001b[1;32m    199\u001b[0m     \u001b[38;5;66;03m# method.\u001b[39;00m\n\u001b[0;32m--> 200\u001b[0m     \u001b[38;5;28;01mif\u001b[39;00m \u001b[38;5;28misinstance\u001b[39m(data, np\u001b[38;5;241m.\u001b[39mndarray) \u001b[38;5;129;01mand\u001b[39;00m data\u001b[38;5;241m.\u001b[39mndim \u001b[38;5;241m>\u001b[39m \u001b[38;5;241m0\u001b[39m \u001b[38;5;129;01mand\u001b[39;00m data\u001b[38;5;241m.\u001b[39mdtype\u001b[38;5;241m.\u001b[39mitemsize \u001b[38;5;241m<\u001b[39m \u001b[43mnp\u001b[49m\u001b[38;5;241;43m.\u001b[39;49m\u001b[43mdtype\u001b[49m\u001b[43m(\u001b[49m\u001b[43mdtype\u001b[49m\u001b[43m)\u001b[49m\u001b[38;5;241m.\u001b[39mitemsize:\n\u001b[1;32m    201\u001b[0m         data \u001b[38;5;241m=\u001b[39m np\u001b[38;5;241m.\u001b[39mascontiguousarray(data)\n",
      "\u001b[0;31mValueError\u001b[0m: mismatch in size of old and new data-descriptor",
      "\nThe above exception was the direct cause of the following exception:\n",
      "\u001b[0;31mRuntimeError\u001b[0m                              Traceback (most recent call last)",
      "Cell \u001b[0;32mIn[38], line 4\u001b[0m\n\u001b[1;32m      2\u001b[0m my_dict[\u001b[38;5;124m\"\u001b[39m\u001b[38;5;124mimage\u001b[39m\u001b[38;5;124m\"\u001b[39m] \u001b[38;5;241m=\u001b[39m \u001b[38;5;124m\"\u001b[39m\u001b[38;5;124m/home/shirshak/Pengwin_Submission_Portal/test/input/images/pelvic-fracture-ct/101.mha\u001b[39m\u001b[38;5;124m\"\u001b[39m\n\u001b[1;32m      3\u001b[0m my_dict[\u001b[38;5;124m\"\u001b[39m\u001b[38;5;124mlabel\u001b[39m\u001b[38;5;124m\"\u001b[39m] \u001b[38;5;241m=\u001b[39m \u001b[38;5;124m\"\u001b[39m\u001b[38;5;124m/home/shirshak/Pengwin_Submission_Portal/test/input/images/pelvic-fracture-ct/101.mha\u001b[39m\u001b[38;5;124m\"\u001b[39m\n\u001b[0;32m----> 4\u001b[0m image_dict \u001b[38;5;241m=\u001b[39m \u001b[43mmy_transform\u001b[49m\u001b[43m(\u001b[49m\u001b[43mmy_dict\u001b[49m\u001b[43m)\u001b[49m\n",
      "File \u001b[0;32m~/Pengwin_Submission_Portal/.venv/lib/python3.10/site-packages/monai/transforms/compose.py:174\u001b[0m, in \u001b[0;36mCompose.__call__\u001b[0;34m(self, input_)\u001b[0m\n\u001b[1;32m    172\u001b[0m \u001b[38;5;28;01mdef\u001b[39;00m \u001b[38;5;21m__call__\u001b[39m(\u001b[38;5;28mself\u001b[39m, input_):\n\u001b[1;32m    173\u001b[0m     \u001b[38;5;28;01mfor\u001b[39;00m _transform \u001b[38;5;129;01min\u001b[39;00m \u001b[38;5;28mself\u001b[39m\u001b[38;5;241m.\u001b[39mtransforms:\n\u001b[0;32m--> 174\u001b[0m         input_ \u001b[38;5;241m=\u001b[39m \u001b[43mapply_transform\u001b[49m\u001b[43m(\u001b[49m\u001b[43m_transform\u001b[49m\u001b[43m,\u001b[49m\u001b[43m \u001b[49m\u001b[43minput_\u001b[49m\u001b[43m,\u001b[49m\u001b[43m \u001b[49m\u001b[38;5;28;43mself\u001b[39;49m\u001b[38;5;241;43m.\u001b[39;49m\u001b[43mmap_items\u001b[49m\u001b[43m,\u001b[49m\u001b[43m \u001b[49m\u001b[38;5;28;43mself\u001b[39;49m\u001b[38;5;241;43m.\u001b[39;49m\u001b[43munpack_items\u001b[49m\u001b[43m,\u001b[49m\u001b[43m \u001b[49m\u001b[38;5;28;43mself\u001b[39;49m\u001b[38;5;241;43m.\u001b[39;49m\u001b[43mlog_stats\u001b[49m\u001b[43m)\u001b[49m\n\u001b[1;32m    175\u001b[0m     \u001b[38;5;28;01mreturn\u001b[39;00m input_\n",
      "File \u001b[0;32m~/Pengwin_Submission_Portal/.venv/lib/python3.10/site-packages/monai/transforms/transform.py:129\u001b[0m, in \u001b[0;36mapply_transform\u001b[0;34m(transform, data, map_items, unpack_items, log_stats)\u001b[0m\n\u001b[1;32m    127\u001b[0m     \u001b[38;5;28;01melse\u001b[39;00m:\n\u001b[1;32m    128\u001b[0m         _log_stats(data\u001b[38;5;241m=\u001b[39mdata)\n\u001b[0;32m--> 129\u001b[0m \u001b[38;5;28;01mraise\u001b[39;00m \u001b[38;5;167;01mRuntimeError\u001b[39;00m(\u001b[38;5;124mf\u001b[39m\u001b[38;5;124m\"\u001b[39m\u001b[38;5;124mapplying transform \u001b[39m\u001b[38;5;132;01m{\u001b[39;00mtransform\u001b[38;5;132;01m}\u001b[39;00m\u001b[38;5;124m\"\u001b[39m) \u001b[38;5;28;01mfrom\u001b[39;00m \u001b[38;5;21;01me\u001b[39;00m\n",
      "\u001b[0;31mRuntimeError\u001b[0m: applying transform <monai.transforms.io.dictionary.LoadImaged object at 0x7fe26e0513c0>"
     ]
    }
   ],
   "source": [
    "my_dict = dict()\n",
    "my_dict[\"image\"] = \"/home/shirshak/Pengwin_Submission_Portal/test/input/images/pelvic-fracture-ct/101.mha\"\n",
    "my_dict[\"label\"] = \"/home/shirshak/Pengwin_Submission_Portal/test/input/images/pelvic-fracture-ct/101.mha\"\n",
    "image_dict = my_transform(my_dict)"
   ]
  },
  {
   "cell_type": "code",
   "execution_count": null,
   "metadata": {},
   "outputs": [
    {
     "data": {
      "text/plain": [
       "{'image': tensor([[[-1000., -1000., -1000.,  ..., -1000., -1000., -1000.],\n",
       "          [-1000., -1000., -1000.,  ..., -1000., -1000., -1000.],\n",
       "          [-1000., -1000., -1000.,  ..., -1000., -1000., -1000.],\n",
       "          ...,\n",
       "          [-1000., -1000., -1000.,  ..., -1000., -1000., -1000.],\n",
       "          [-1000., -1000., -1000.,  ..., -1000., -1000., -1000.],\n",
       "          [-1000., -1000., -1000.,  ..., -1000., -1000., -1000.]],\n",
       " \n",
       "         [[-1000., -1000., -1000.,  ..., -1000., -1000., -1000.],\n",
       "          [-1000., -1000., -1000.,  ..., -1000., -1000., -1000.],\n",
       "          [-1000., -1000., -1000.,  ..., -1000., -1000., -1000.],\n",
       "          ...,\n",
       "          [-1000., -1000., -1000.,  ..., -1000., -1000., -1000.],\n",
       "          [-1000., -1000., -1000.,  ..., -1000., -1000., -1000.],\n",
       "          [-1000., -1000., -1000.,  ..., -1000., -1000., -1000.]],\n",
       " \n",
       "         [[-1000., -1000., -1000.,  ..., -1000., -1000., -1000.],\n",
       "          [-1000., -1000., -1000.,  ..., -1000., -1000., -1000.],\n",
       "          [-1000., -1000., -1000.,  ..., -1000., -1000., -1000.],\n",
       "          ...,\n",
       "          [-1000., -1000., -1000.,  ..., -1000., -1000., -1000.],\n",
       "          [-1000., -1000., -1000.,  ..., -1000., -1000., -1000.],\n",
       "          [-1000., -1000., -1000.,  ..., -1000., -1000., -1000.]],\n",
       " \n",
       "         ...,\n",
       " \n",
       "         [[-1000., -1000., -1000.,  ..., -1000., -1000., -1000.],\n",
       "          [-1000., -1000., -1000.,  ..., -1000., -1000., -1000.],\n",
       "          [-1000., -1000., -1000.,  ..., -1000., -1000., -1000.],\n",
       "          ...,\n",
       "          [-1000., -1000., -1000.,  ..., -1000., -1000., -1000.],\n",
       "          [-1000., -1000., -1000.,  ..., -1000., -1000., -1000.],\n",
       "          [-1000., -1000., -1000.,  ..., -1000., -1000., -1000.]],\n",
       " \n",
       "         [[-1000., -1000., -1000.,  ..., -1000., -1000., -1000.],\n",
       "          [-1000., -1000., -1000.,  ..., -1000., -1000., -1000.],\n",
       "          [-1000., -1000., -1000.,  ..., -1000., -1000., -1000.],\n",
       "          ...,\n",
       "          [-1000., -1000., -1000.,  ..., -1000., -1000., -1000.],\n",
       "          [-1000., -1000., -1000.,  ..., -1000., -1000., -1000.],\n",
       "          [-1000., -1000., -1000.,  ..., -1000., -1000., -1000.]],\n",
       " \n",
       "         [[-1000., -1000., -1000.,  ..., -1000., -1000., -1000.],\n",
       "          [-1000., -1000., -1000.,  ..., -1000., -1000., -1000.],\n",
       "          [-1000., -1000., -1000.,  ..., -1000., -1000., -1000.],\n",
       "          ...,\n",
       "          [-1000., -1000., -1000.,  ..., -1000., -1000., -1000.],\n",
       "          [-1000., -1000., -1000.,  ..., -1000., -1000., -1000.],\n",
       "          [-1000., -1000., -1000.,  ..., -1000., -1000., -1000.]]]),\n",
       " 'label': tensor([[[-1000., -1000., -1000.,  ..., -1000., -1000., -1000.],\n",
       "          [-1000., -1000., -1000.,  ..., -1000., -1000., -1000.],\n",
       "          [-1000., -1000., -1000.,  ..., -1000., -1000., -1000.],\n",
       "          ...,\n",
       "          [-1000., -1000., -1000.,  ..., -1000., -1000., -1000.],\n",
       "          [-1000., -1000., -1000.,  ..., -1000., -1000., -1000.],\n",
       "          [-1000., -1000., -1000.,  ..., -1000., -1000., -1000.]],\n",
       " \n",
       "         [[-1000., -1000., -1000.,  ..., -1000., -1000., -1000.],\n",
       "          [-1000., -1000., -1000.,  ..., -1000., -1000., -1000.],\n",
       "          [-1000., -1000., -1000.,  ..., -1000., -1000., -1000.],\n",
       "          ...,\n",
       "          [-1000., -1000., -1000.,  ..., -1000., -1000., -1000.],\n",
       "          [-1000., -1000., -1000.,  ..., -1000., -1000., -1000.],\n",
       "          [-1000., -1000., -1000.,  ..., -1000., -1000., -1000.]],\n",
       " \n",
       "         [[-1000., -1000., -1000.,  ..., -1000., -1000., -1000.],\n",
       "          [-1000., -1000., -1000.,  ..., -1000., -1000., -1000.],\n",
       "          [-1000., -1000., -1000.,  ..., -1000., -1000., -1000.],\n",
       "          ...,\n",
       "          [-1000., -1000., -1000.,  ..., -1000., -1000., -1000.],\n",
       "          [-1000., -1000., -1000.,  ..., -1000., -1000., -1000.],\n",
       "          [-1000., -1000., -1000.,  ..., -1000., -1000., -1000.]],\n",
       " \n",
       "         ...,\n",
       " \n",
       "         [[-1000., -1000., -1000.,  ..., -1000., -1000., -1000.],\n",
       "          [-1000., -1000., -1000.,  ..., -1000., -1000., -1000.],\n",
       "          [-1000., -1000., -1000.,  ..., -1000., -1000., -1000.],\n",
       "          ...,\n",
       "          [-1000., -1000., -1000.,  ..., -1000., -1000., -1000.],\n",
       "          [-1000., -1000., -1000.,  ..., -1000., -1000., -1000.],\n",
       "          [-1000., -1000., -1000.,  ..., -1000., -1000., -1000.]],\n",
       " \n",
       "         [[-1000., -1000., -1000.,  ..., -1000., -1000., -1000.],\n",
       "          [-1000., -1000., -1000.,  ..., -1000., -1000., -1000.],\n",
       "          [-1000., -1000., -1000.,  ..., -1000., -1000., -1000.],\n",
       "          ...,\n",
       "          [-1000., -1000., -1000.,  ..., -1000., -1000., -1000.],\n",
       "          [-1000., -1000., -1000.,  ..., -1000., -1000., -1000.],\n",
       "          [-1000., -1000., -1000.,  ..., -1000., -1000., -1000.]],\n",
       " \n",
       "         [[-1000., -1000., -1000.,  ..., -1000., -1000., -1000.],\n",
       "          [-1000., -1000., -1000.,  ..., -1000., -1000., -1000.],\n",
       "          [-1000., -1000., -1000.,  ..., -1000., -1000., -1000.],\n",
       "          ...,\n",
       "          [-1000., -1000., -1000.,  ..., -1000., -1000., -1000.],\n",
       "          [-1000., -1000., -1000.,  ..., -1000., -1000., -1000.],\n",
       "          [-1000., -1000., -1000.,  ..., -1000., -1000., -1000.]]]),\n",
       " 'image_meta_dict': {'LargestImagePixelValue': '6139',\n",
       "  'Modality': 'MET_MOD_UNKNOWN',\n",
       "  'SmallestImagePixelValue': '-1023',\n",
       "  'spacing': array([0.8671875, 0.8671875, 1.       ]),\n",
       "  original_affine: array([[  -0.8671875 ,    0.        ,    0.        ,  244.60015869],\n",
       "         [   0.        ,   -0.8671875 ,    0.        ,  221.56640625],\n",
       "         [   0.        ,    0.        ,    1.        , -656.86621094],\n",
       "         [   0.        ,    0.        ,    0.        ,    1.        ]]),\n",
       "  space: RAS,\n",
       "  affine: tensor([[  -0.8672,    0.0000,    0.0000,  244.6002],\n",
       "          [   0.0000,   -0.8672,    0.0000,  221.5664],\n",
       "          [   0.0000,    0.0000,    1.0000, -656.8662],\n",
       "          [   0.0000,    0.0000,    0.0000,    1.0000]], dtype=torch.float64),\n",
       "  spatial_shape: array([512, 512, 303]),\n",
       "  original_channel_dim: 'no_channel',\n",
       "  'filename_or_obj': '/home/shirshak/Pengwin_Submission_Portal/test/input/images/pelvic-fracture-ct/101.mha'},\n",
       " 'label_meta_dict': {'LargestImagePixelValue': '6139',\n",
       "  'Modality': 'MET_MOD_UNKNOWN',\n",
       "  'SmallestImagePixelValue': '-1023',\n",
       "  'spacing': array([0.8671875, 0.8671875, 1.       ]),\n",
       "  original_affine: array([[  -0.8671875 ,    0.        ,    0.        ,  244.60015869],\n",
       "         [   0.        ,   -0.8671875 ,    0.        ,  221.56640625],\n",
       "         [   0.        ,    0.        ,    1.        , -656.86621094],\n",
       "         [   0.        ,    0.        ,    0.        ,    1.        ]]),\n",
       "  space: RAS,\n",
       "  affine: tensor([[  -0.8672,    0.0000,    0.0000,  244.6002],\n",
       "          [   0.0000,   -0.8672,    0.0000,  221.5664],\n",
       "          [   0.0000,    0.0000,    1.0000, -656.8662],\n",
       "          [   0.0000,    0.0000,    0.0000,    1.0000]], dtype=torch.float64),\n",
       "  spatial_shape: array([512, 512, 303]),\n",
       "  original_channel_dim: 'no_channel',\n",
       "  'filename_or_obj': '/home/shirshak/Pengwin_Submission_Portal/test/input/images/pelvic-fracture-ct/101.mha'}}"
      ]
     },
     "execution_count": 32,
     "metadata": {},
     "output_type": "execute_result"
    }
   ],
   "source": [
    "image_dict"
   ]
  },
  {
   "cell_type": "code",
   "execution_count": null,
   "metadata": {},
   "outputs": [],
   "source": []
  },
  {
   "cell_type": "code",
   "execution_count": null,
   "metadata": {},
   "outputs": [],
   "source": []
  }
 ],
 "metadata": {
  "kernelspec": {
   "display_name": ".venv",
   "language": "python",
   "name": "python3"
  },
  "language_info": {
   "codemirror_mode": {
    "name": "ipython",
    "version": 3
   },
   "file_extension": ".py",
   "mimetype": "text/x-python",
   "name": "python",
   "nbconvert_exporter": "python",
   "pygments_lexer": "ipython3",
   "version": "3.10.12"
  }
 },
 "nbformat": 4,
 "nbformat_minor": 2
}
